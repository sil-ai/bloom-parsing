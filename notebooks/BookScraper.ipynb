{
  "nbformat": 4,
  "nbformat_minor": 0,
  "metadata": {
    "colab": {
      "name": "BookScraper.ipynb",
      "provenance": [],
      "collapsed_sections": []
    },
    "kernelspec": {
      "name": "python3",
      "display_name": "Python 3"
    },
    "language_info": {
      "name": "python"
    }
  },
  "cells": [
    {
      "cell_type": "code",
      "metadata": {
        "id": "CWj2qA6T0hUY",
        "colab": {
          "base_uri": "https://localhost:8080/"
        },
        "outputId": "1bfa254c-c1b7-4807-9e2b-2b788af1e5ce"
      },
      "source": [
        "!pip install pycld3\n",
        "from bs4 import BeautifulSoup\n",
        "import cld3\n",
        "import pandas as pd"
      ],
      "execution_count": 1,
      "outputs": [
        {
          "output_type": "stream",
          "name": "stdout",
          "text": [
            "Collecting pycld3\n",
            "  Downloading pycld3-0.22-cp37-cp37m-manylinux1_x86_64.whl (13.6 MB)\n",
            "\u001b[K     |████████████████████████████████| 13.6 MB 14 kB/s \n",
            "\u001b[?25hInstalling collected packages: pycld3\n",
            "Successfully installed pycld3-0.22\n"
          ]
        }
      ]
    },
    {
      "cell_type": "markdown",
      "metadata": {
        "id": "tllY6Ovu0Tom"
      },
      "source": [
        "  Title Parse"
      ]
    },
    {
      "cell_type": "code",
      "metadata": {
        "id": "BNA2XWydw0w2",
        "colab": {
          "base_uri": "https://localhost:8080/"
        },
        "outputId": "3b2df95f-a01b-4fe7-b41f-cd99c1b9ec8a"
      },
      "source": [
        "def title_book(filename):\n",
        "  book_title = []\n",
        "  with open(filename) as file:\n",
        "    page_title = file.read()\n",
        "  soup_title = BeautifulSoup(page_title, 'html.parser')\n",
        "  book_t = soup_title.select(\"title\")\n",
        "  for text in book_t:\n",
        "    if text.get_text() != '':\n",
        "      book_t = text.get_text()\n",
        "      title_language = cld3.get_language(str(book_t)).language\n",
        "      if title_language != 'en' and title_language != 'un':\n",
        "        book_title.append(book_t)\n",
        "  return book_title\n",
        "\n",
        "print(title_book(\"drive/MyDrive/Pengalaman_Nanek_Pringak_ku_Padeg_berkenaan_Covid-.htm\"))"
      ],
      "execution_count": 5,
      "outputs": [
        {
          "output_type": "stream",
          "name": "stdout",
          "text": [
            "['Pengalaman Nanek Pringak ku Padeg berkenaan Covid-19']\n"
          ]
        }
      ]
    },
    {
      "cell_type": "markdown",
      "metadata": {
        "id": "dY89yyS30rKI"
      },
      "source": [
        "Book Parse"
      ]
    },
    {
      "cell_type": "code",
      "metadata": {
        "id": "R_o7opgQc-Hc",
        "colab": {
          "base_uri": "https://localhost:8080/"
        },
        "outputId": "b9c9bb41-68e6-4d8a-d888-ff03c992e48a"
      },
      "source": [
        "def book_finished(filename):\n",
        "  book_text = []\n",
        "  book_sorted = []\n",
        "  with open(filename) as file:\n",
        "    page = file.read()\n",
        "  soup = BeautifulSoup(page, 'html.parser')\n",
        "  book = soup.select(\"div p\")\n",
        "  for text in book:\n",
        "    if text.get_text() != '':\n",
        "      book_text = text.get_text()\n",
        "      book_language = cld3.get_language(str(book_text)).language\n",
        "      if book_language != 'en' and book_language != 'un':\n",
        "        book_sorted.append(book_text)\n",
        "  return book_sorted\n",
        "\n",
        "print(book_finished(\"drive/MyDrive/Pengalaman_Nanek_Pringak_ku_Padeg_berkenaan_Covid-.htm\"))"
      ],
      "execution_count": 6,
      "outputs": [
        {
          "output_type": "stream",
          "name": "stdout",
          "text": [
            "['Bop bibeh bedasarkan sumber maklumat mengenai Kesihatan Awam bagi tujuan pendidikan taleh. Bop adeh pek sesuei bipejadi sebagei nasihat perubatan. Ma-ma taleh soalan bekenaan hal-hal di bipasal ku padeh, sila behubong ru Pegawai Kesihatan.', 'Gambar bilukes ya Mark Marcuson, © 2021 SIL International. CC BY-NC 4.0.', 'Pengalaman Nanek Pringak ku Padeg berkenaan Covid-19', 'Pengalaman Nanek Pringak ku Padeg berkenaan Covid-19', 'Pengalaman Nanek Pringak ku Padeg berkenaan Covid-19', 'Gambar bilukes ya Mark Marcuson, © 2021 SIL International. CC BY-NC 4.0.', 'Bop bibeh bedasarkan sumber maklumat mengenai Kesihatan Awam bagi tujuan pendidikan taleh. Bop adeh pek sesuei bipejadi sebagei nasihat perubatan. Ma-ma taleh soalan bekenaan hal-hal di bipasal ku padeh, sila behubong ru Pegawai Kesihatan.', '\\u200c', '\\u200c', '\\u200c', '\\u200c', '\\u200c', '8 teaspoons of sugar and \\xa0½ teaspoon of salt mixed in 1 liter of water.\\xa0', '\\u200c', '\\u200c', 'Anita ru ipringak naigei ku pekan macot. Kek mimang kigemar ha ikerjak sebagei numom cikgu sekulah tapi isekulah ya tutop kerana virus COVID-19.', 'Ku ipadeg, Anita kicerngai siaran radio ru jeoi kibelajar mengenai virus COVID-19 ru bageiharok virus ajeh kijekjog nu manusia.', 'Ju pekara de kibelajar ajeh, Anita kiajar sengoi-sengoi ku ikomuniti care bageiharok ha lindog diri ju virus ajeh.', 'Kek kipanei, amen kihol nu luar ru belwal ru jeoi mai, kek senang kaha-kep nyaknik virus ajeh. Tapi, kek kipanei ikepentengan dea dikdij mai naipanei care ha lindog diri ju virus ajeh. Kek kiajar ijiran-jiran, \"Hik hot hibejaga-jaga ru hot selalu hisuj teg hik ya sabon.\"', 'Telas ajeh, kek kipeterang, \"Hik mesti hilog tuntop moh ru empag mase hihol ju kendeg, atau ku mase hik mong ru mai de pek naigei sama deg ru hik.\"', '\"Hik juga mesti hielak luang jeoi mase ru sengoi-sengoi de pek sama deg ru hik.\"', '\"Hik juga mesti hijarak diri 2 miter inyaknak ju mai kilek, baik mase ku kedei, ku tempat kerjak, atau mase hibelwal ru jiran.', '\"Amen hibeh bagei ajeh, hik buleh hitulog pebehenti virus ajeh dari kijekjog ju numom nu numom.\"', 'Nuarik, Anita kirasa pek sihat iberog. Ihat pehot ikui, beket iberog, ru kek ya mula kikehol. Kek juga kiperasan kek pek dapat kirasa ru kikerngoi caknak de kicak. Anita kisedar kek ya kikena nyaknik virus Covid-19.', 'Kek segera kipasal nu iperingak, \"Hik mesti higei padeg ru hielak diri ju mai kilek. Virus Covid-19 mungken ya kijekjog nu engkek juga hamapen pek engkenyik. Engkek doh senang engkeog virus ajeh kijekjog nu mai kilek.\"', 'Telas ajeh, Anita kimuj nu kiaseg idiri nu kateh bilek kihalei, nyak ju iperingak de kilek. Kek kinyek doh inyaknik kijekjog nu enai ru enai pen doh nainyik juga.', 'Igensir, David, kijaga ha kek. Kek kien caknak nu ikenah ru kikot pingat-mangkok de ya kusong ju bilek ajeh. \\xa0Kek kiaseg pingat-mangkok de biguna ya ikenah ajeh dea pek biguna ya mai kilek.', 'David selalu kilog tuntop moh ru empag jap kali kimuj nu kateh bilek de bigei ya ikenah ajeh. Kek juga selalu kisuj iteg jap kali kibeh ma-ma ihal ha ikenah ajeh. Anita juga kilog tuntop moh ru empag jap kali igensir kimuj nu kateh ibilek.', 'Pringak enai ajeh naikungsi tandas ru deg mahnuh de sama. Jadi, jap kali Anita kiguna tandas atau deg mahnuh ajeh, kek selalu kilog tuntop moh ru empag.', 'Amen ya sudah, kek selalu kisuj jap pemukaan ya sabon sebelom kijog nu ibilek.', 'Telas memerip arik ju kenjeh, Marcos, kenon Anita de iumor 8 tahot ya mula kirasa nyik juga. Amek Anita de kigei sama ru enai pen ya mula kirasa beket iberog. Ubai rimnar ajeh ubai gei ku bilek de sama ru Anita kerana naiha-lindog pringak enai de kilek dea pek jekjog nyaknik enai.', 'Gensir Anita kihalei taleh de buleh ngengngeng caknak ha ipringak de nyik ajeh.', 'Bilek de bigei ya Anita, ikenon, ru iamek ajeh ihat macot.', 'Mujur, bilek enai ajeh mong pintu de buleh naihol nu luar deg. David kiseryap tempat ku luar pintu ajeh, tempat ha ipringak de nyik ajeh naiberihat sambel nairasa udare segar.', 'Kekenon menaleh Anita ru David de kilek naitulog ma de patot ju care naibrencet ru naisahsah.', 'Jiran enai naien barang caknak ru penglai nyaknik ha enai dea pek naihol. Itujuan dea pek naiog nyaknik enai kijekjog nu mai kilek. Enai naipanei, hamapen nenumom sengoi ajeh pek kirasa nyik, kek lekat buleh kiog inyaknik kijekjog nu mai kilek. Enai naipanei, mimang ihat penteng dea pringak Anita ru David hat naigei padeg taleh.', 'David kiurok nu ijiran-jiran, \"Aguk terbuk rek nu pringak enj de nyik adeh! Enj ngnyek engkek pen doh engkenyik juga. Tapi, bedoaleh ha jik ru suegleh jik ju luar deg taleh.\"', 'Pastor enai kihol jap memerip arik, kibedoa ha mai de nyik, ru kiog galakkan nu enai ju luar pagar deg. Kek juga pen turot kibehati-hati ju care kilog tuntop moh ru empag.', 'Maria, pekerjak Kesihatan komuniti, kiajar David icara ha jaga ipringak de nyik ajeh. David kipanei bile ru bageiharok kaha-og penglai kengreg nu ipringak amen ipringak ajeh naiperlu.', 'Ku mase pek lalu naiha-cak jeoi, kek kiog enai caknak bagei ha sup. Ikekenon menaleh naitulog masak sup ajeh.\\xa0', 'Ijak, Flora, kinyik terok lei pek lalu kicakcak.', 'Jadi, David kicampor 8 sudu gula ru setengah sudu empoj ku kateh teu ru kiog Flora, ijak ajeh kingot. Kek selalu kipastikan ipringak de nyik ajeh naingot jeoi teu, sekurang-kurang 2 liter nuarik.', 'Telas memerip arik kinyik terok, Anita ya mula kirasa bor. Ikenon, Marcos, pek kinyik terok ru deras kibor.', 'Flora, amek Anita, juga ya mula kirasa bor telas memerip arik, tapi telas ajeh kinyik gumaken terok nij. Ibengket berog gumaken terok ru ya mula susah kaha-belehem.', 'Anita kisengoh. Kek kiurok nu David, \"Hik mesti hien amek nu dokte!\"', 'David kiberlag, \"Enj betol-betol ngbeharap hik buleh hibeh bagei ajeh. Tapi, pek mong bas kerana PKP. Maria, pekerjak Kesihatan Komuniti hik pen pek dapat kihol madeh!\"', 'Syukur, Anita buleh kitalipon Maria ru kisemanj nasihat ha care kaha-jaga iamek.', 'Maria kiurok, \"Ingat, engkek mesti kuarantin ru pek engkebegaul ru mai sekelileg dea pek engkeog nyaknik engkek kijekjog nu mai kilek. Mimang mong icare ha jaga amek hek hamapen pek dapat engkehol nu luar.\"', 'Kiurok nu Anita, \"Hek hunen dapat hajaga amek hek kerana lihek ya hakenak Covid-19 ru pek mungken buleh hakena nukali nij. Bilek amek hek hotleh mong aliran udare de bor ru kek hot selalu kingot teu, pek kira teu kusongka, tehka, atau sup.\" Maria kirasa lega kerana bilek enai mong pintu nu luar deg, jadi buleh naibuka dea muj pinoi nu kateh deg.', 'David kibuka pintu ru kiletak jaring dea pinoi dapat kimuj, tapi kemet ru roi pek dapat. Amen pintu bitutop, David kipastikan tingkap lekat bibuka dea udare segar dapat kimuj nu kateh deg ru kitulog ijak kibelehem lebeh senang nij.', 'Anita kitulog iamek ngot teu sekurang-kurang tiap nujam nukali.', 'Anita kibelajar ju Maria, tiap jam iamek hot kitarek ilehem ajerek, ru kiperhol ilehem ajeh pelahat-lahat. Hal ajeh buleh kitulog iparu-paru kibekerja bor. \\xa0', 'Anita juga kitulog iamek selalu kitukar icare daknak. Kek kicuba beh iamek dakdak kekkop kerana hal ajeh buleh kitulog iamek kibelehem dea iparu-paru kibekerja bor.', 'Maria juga kiajar Anita care kilek de buleh kitulog paru-paru iamek ajeh. Icare. guna butol tenghol.', 'Mula-mula, Anita kiisi butol kusong ya teu, lebeh kurang 5 sentimiter iteninggi ru kiletak strow ku kateh butol ajeh.', 'Telas ajeh, iamek kitehol nu kateh butol ajeh pelahat-lahat lei iteu hol jeoi udare. Kibeh hal ajeh memerip kali nuarik dea kitulog iparu-paru bekerjak bor.', 'Anita kibesyukor ha neajar ju Maria. Iamek ya mula kirasa bor ru itenage ya kijekjog nij.', 'Ipringak naikira merip iluniu sejak Anita, Marco, ru Flora mula nainyik. Telas ya 14 arik, naikot nij suhu berog enai. Telas 24 jam, pek mong numom pen ju enai ajeh de nyik. Jadi, enai ya buleh naihol ju kendeg. Enai ya pek akan naiog nyaknik enai kijekjog nu mai kilek.', 'Anita kibeharap pek liu nij dapat kibakek ru Maria, pekerja Kesihatan komuniti enai ajeh. Kek kaha-ucap trime kaseh nu dikdij ineajar. David ru Anita ubai rasa bangge kerana ya ubai jaga pringak ubai sebaik mungken hamapen pek dapat naihol ru naiberkep tenulog ju klinik atau hospitel.', 'Jeoi mai ku kateh komuniti enai ajeh de naikena Covid-19. Anita ru David ya jeoi ubai belajar ru hunen dapat ubai tulog komuniti liubai, ru pringak enai juga.', 'Gerija enai selalu naipelagak mai ya bedoa ru selalu juga naien caknak ha mai de nyik. Enai juga naitulog danan mai kerana Covid-19, ru naiturot serta besedeh besama pringak ru komuniti ajeh.', 'Jap-jap mai ya pek sabar naiha-berkep cenucok vaksin dea enai bilindog ju virus Covid-19. Syukur, sementare naipimpoj, enai ya naipanei perkara de patot naibeh.']\n"
          ]
        }
      ]
    },
    {
      "cell_type": "markdown",
      "metadata": {
        "id": "-DBLDi9ajSQN"
      },
      "source": [
        "div"
      ]
    },
    {
      "cell_type": "code",
      "metadata": {
        "id": "sJKXSu7x4Xuj",
        "colab": {
          "base_uri": "https://localhost:8080/"
        },
        "outputId": "94ff4471-79ed-479a-f9bb-6d1a4c871aa6"
      },
      "source": [
        "def finished_book(filename):\n",
        "  book_title = []\n",
        "  book_text = []\n",
        "  book_sorted = []\n",
        "  with open(filename) as file:\n",
        "    page_title = file.read()\n",
        "  soup_title = BeautifulSoup(page_title, 'html.parser')\n",
        "  book_t = soup_title.select(\"title\")\n",
        "  for text in book_t:\n",
        "    if text.get_text() != '':\n",
        "      book_t = text.get_text()\n",
        "      title_language = cld3.get_language(str(book_t)).language\n",
        "      if title_language != 'en' and title_language != 'un':\n",
        "        book_title.append(book_t)\n",
        "  return book_title\n",
        "  with open(filename) as file:\n",
        "    page = file.read()\n",
        "    soup = BeautifulSoup(page, 'html.parser')\n",
        "    book = soup.select(\"div p\")\n",
        "    for text in book:\n",
        "      if text.get_text() != '':\n",
        "        book_text = text.get_text()\n",
        "        book_language = cld3.get_language(str(book_text)).language\n",
        "        if book_language != 'en' and book_language != 'un':\n",
        "          book_sorted.append(book_text)\n",
        "    return book_sorted\n",
        "\n",
        "print(finished_book(\"drive/MyDrive/Pengalaman_Nanek_Pringak_ku_Padeg_berkenaan_Covid-.htm\"))\n"
      ],
      "execution_count": null,
      "outputs": [
        {
          "output_type": "stream",
          "name": "stdout",
          "text": [
            "['Pengalaman Nanek Pringak ku Padeg berkenaan Covid-19']\n"
          ]
        }
      ]
    },
    {
      "cell_type": "markdown",
      "metadata": {
        "id": "0TVkxmbhsuUx"
      },
      "source": [
        "Metadata"
      ]
    },
    {
      "cell_type": "code",
      "metadata": {
        "id": "nC0e-XLSse2g"
      },
      "source": [
        "data = pd.read_csv('Grid.csv')\n",
        "data[~data['uploader'].isnull()]"
      ],
      "execution_count": null,
      "outputs": []
    }
  ]
}